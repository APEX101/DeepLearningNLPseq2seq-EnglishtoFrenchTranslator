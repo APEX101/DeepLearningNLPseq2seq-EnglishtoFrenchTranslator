{
 "cells": [
  {
   "cell_type": "code",
   "execution_count": 1,
   "metadata": {
    "executionInfo": {
     "elapsed": 666,
     "status": "ok",
     "timestamp": 1631456651452,
     "user": {
      "displayName": "AHMAD HASSAN",
      "photoUrl": "https://lh3.googleusercontent.com/a-/AOh14Gj8sSoIN2sm7Rpm61y9tGp0PjokjnqAybPa9wCD=s64",
      "userId": "14337286313514897029"
     },
     "user_tz": -300
    },
    "id": "y_3pR1FQnBtw"
   },
   "outputs": [],
   "source": [
    "# from google.colab import drive\n",
    "# drive.mount('/content/drive')"
   ]
  },
  {
   "cell_type": "code",
   "execution_count": 2,
   "metadata": {
    "colab": {
     "base_uri": "https://localhost:8080/"
    },
    "executionInfo": {
     "elapsed": 635,
     "status": "ok",
     "timestamp": 1631456652768,
     "user": {
      "displayName": "AHMAD HASSAN",
      "photoUrl": "https://lh3.googleusercontent.com/a-/AOh14Gj8sSoIN2sm7Rpm61y9tGp0PjokjnqAybPa9wCD=s64",
      "userId": "14337286313514897029"
     },
     "user_tz": -300
    },
    "id": "gfDq0wl9RSy1",
    "outputId": "daab2899-19d6-4fd3-e93c-555b1b74f9da"
   },
   "outputs": [
    {
     "name": "stdout",
     "output_type": "stream",
     "text": [
      "drive  sample_data\n"
     ]
    }
   ],
   "source": [
    "!ls"
   ]
  },
  {
   "cell_type": "code",
   "execution_count": 3,
   "metadata": {
    "colab": {
     "base_uri": "https://localhost:8080/"
    },
    "executionInfo": {
     "elapsed": 27,
     "status": "ok",
     "timestamp": 1631456652768,
     "user": {
      "displayName": "AHMAD HASSAN",
      "photoUrl": "https://lh3.googleusercontent.com/a-/AOh14Gj8sSoIN2sm7Rpm61y9tGp0PjokjnqAybPa9wCD=s64",
      "userId": "14337286313514897029"
     },
     "user_tz": -300
    },
    "id": "IaxD0oLrnRRg",
    "outputId": "eb68efa2-71b8-4c88-de8b-98ae2b282563"
   },
   "outputs": [
    {
     "name": "stdout",
     "output_type": "stream",
     "text": [
      "/content/drive/MyDrive/Language Translation AutoEncoders(LSTM and NLP seq 2 seq) \n"
     ]
    }
   ],
   "source": [
    "%cd '/content/drive/MyDrive/Language Translation AutoEncoders(LSTM and NLP seq 2 seq) '"
   ]
  },
  {
   "cell_type": "code",
   "execution_count": 4,
   "metadata": {
    "executionInfo": {
     "elapsed": 25,
     "status": "ok",
     "timestamp": 1631456652769,
     "user": {
      "displayName": "AHMAD HASSAN",
      "photoUrl": "https://lh3.googleusercontent.com/a-/AOh14Gj8sSoIN2sm7Rpm61y9tGp0PjokjnqAybPa9wCD=s64",
      "userId": "14337286313514897029"
     },
     "user_tz": -300
    },
    "id": "PvOeHXManXrN"
   },
   "outputs": [],
   "source": [
    "# !unzip '/content/drive/MyDrive/Language Translation AutoEncoders(LSTM and NLP seq 2 seq) /fra-eng.zip' -d '/content/drive/MyDrive/Language Translation AutoEncoders(LSTM and NLP seq 2 seq) /'"
   ]
  },
  {
   "cell_type": "markdown",
   "metadata": {
    "id": "1QjLwupbns1v"
   },
   "source": [
    "# PreProcessing"
   ]
  },
  {
   "cell_type": "code",
   "execution_count": 5,
   "metadata": {
    "executionInfo": {
     "elapsed": 24,
     "status": "ok",
     "timestamp": 1631456652769,
     "user": {
      "displayName": "AHMAD HASSAN",
      "photoUrl": "https://lh3.googleusercontent.com/a-/AOh14Gj8sSoIN2sm7Rpm61y9tGp0PjokjnqAybPa9wCD=s64",
      "userId": "14337286313514897029"
     },
     "user_tz": -300
    },
    "id": "wl5LXZtCnkrm"
   },
   "outputs": [],
   "source": [
    "import numpy as np\n",
    "import pandas as pd\n",
    "import matplotlib.pyplot as plt\n",
    "\n"
   ]
  },
  {
   "cell_type": "code",
   "execution_count": 6,
   "metadata": {
    "executionInfo": {
     "elapsed": 24,
     "status": "ok",
     "timestamp": 1631456652769,
     "user": {
      "displayName": "AHMAD HASSAN",
      "photoUrl": "https://lh3.googleusercontent.com/a-/AOh14Gj8sSoIN2sm7Rpm61y9tGp0PjokjnqAybPa9wCD=s64",
      "userId": "14337286313514897029"
     },
     "user_tz": -300
    },
    "id": "zOdj8uG8n2Cd"
   },
   "outputs": [],
   "source": [
    "#Constant Variables\n",
    "batch_size = 64  # Batch size for training.\n",
    "epochs = 100  # Number of epochs to train for.\n",
    "latent_dim = 256  # Latent dimensionality of the encoding space.\n",
    "num_samples = 10000  # Number of samples to train on.\n",
    "# Path to the data txt file on disk.\n",
    "data_path = \"fra.txt\""
   ]
  },
  {
   "cell_type": "markdown",
   "metadata": {
    "id": "KkliMph_qeMT"
   },
   "source": [
    "### Vectorize the data"
   ]
  },
  {
   "cell_type": "code",
   "execution_count": 7,
   "metadata": {
    "executionInfo": {
     "elapsed": 24,
     "status": "ok",
     "timestamp": 1631456652770,
     "user": {
      "displayName": "AHMAD HASSAN",
      "photoUrl": "https://lh3.googleusercontent.com/a-/AOh14Gj8sSoIN2sm7Rpm61y9tGp0PjokjnqAybPa9wCD=s64",
      "userId": "14337286313514897029"
     },
     "user_tz": -300
    },
    "id": "PlVjCVCJoDG9"
   },
   "outputs": [],
   "source": [
    "#Reading then Vectorize the data and Create Tokens\n",
    "input_texts = []\n",
    "target_texts = []\n",
    "input_characters = set()\n",
    "target_characters = set()\n",
    "with open(data_path, \"r\", encoding=\"utf-8\") as f:\n",
    "    lines = f.read().split(\"\\n\")\n",
    "for line in lines[: min(num_samples, len(lines) - 1)]:\n",
    "    input_text, target_text, _ = line.split(\"\\t\")\n",
    "    # We use \"tab\" as the \"start sequence\" character\n",
    "    # for the targets, and \"\\n\" as \"end sequence\" character.\n",
    "    target_text = \"\\t\" + target_text + \"\\n\"\n",
    "    input_texts.append(input_text)\n",
    "    target_texts.append(target_text)\n",
    "    for char in input_text:\n",
    "        if char not in input_characters:      #appending unique characters for encoder input\n",
    "            input_characters.add(char)\n",
    "    for char in target_text:                   #appending unique characters for target\n",
    "        if char not in target_characters:\n",
    "            target_characters.add(char)\n",
    "  "
   ]
  },
  {
   "cell_type": "code",
   "execution_count": 8,
   "metadata": {
    "executionInfo": {
     "elapsed": 24,
     "status": "ok",
     "timestamp": 1631456652770,
     "user": {
      "displayName": "AHMAD HASSAN",
      "photoUrl": "https://lh3.googleusercontent.com/a-/AOh14Gj8sSoIN2sm7Rpm61y9tGp0PjokjnqAybPa9wCD=s64",
      "userId": "14337286313514897029"
     },
     "user_tz": -300
    },
    "id": "fqryBG9gpvRh"
   },
   "outputs": [],
   "source": [
    "# input_texts\n",
    "# input_characters\n",
    "# target_texts\n",
    "# target_characters\n",
    "\n"
   ]
  },
  {
   "cell_type": "markdown",
   "metadata": {
    "id": "0mh6Dpp-qiuq"
   },
   "source": [
    "### Clean the Data"
   ]
  },
  {
   "cell_type": "code",
   "execution_count": 9,
   "metadata": {
    "executionInfo": {
     "elapsed": 24,
     "status": "ok",
     "timestamp": 1631456652772,
     "user": {
      "displayName": "AHMAD HASSAN",
      "photoUrl": "https://lh3.googleusercontent.com/a-/AOh14Gj8sSoIN2sm7Rpm61y9tGp0PjokjnqAybPa9wCD=s64",
      "userId": "14337286313514897029"
     },
     "user_tz": -300
    },
    "id": "WROpup7Fpw9s"
   },
   "outputs": [],
   "source": [
    "import re\n",
    "import string\n"
   ]
  },
  {
   "cell_type": "code",
   "execution_count": 10,
   "metadata": {
    "executionInfo": {
     "elapsed": 23,
     "status": "ok",
     "timestamp": 1631456652772,
     "user": {
      "displayName": "AHMAD HASSAN",
      "photoUrl": "https://lh3.googleusercontent.com/a-/AOh14Gj8sSoIN2sm7Rpm61y9tGp0PjokjnqAybPa9wCD=s64",
      "userId": "14337286313514897029"
     },
     "user_tz": -300
    },
    "id": "UxtE9r3Nqmcd"
   },
   "outputs": [],
   "source": [
    "# input_texts  = [word for word in input_texts if word not in string.punctuation]\n"
   ]
  },
  {
   "cell_type": "code",
   "execution_count": 11,
   "metadata": {
    "executionInfo": {
     "elapsed": 23,
     "status": "ok",
     "timestamp": 1631456652772,
     "user": {
      "displayName": "AHMAD HASSAN",
      "photoUrl": "https://lh3.googleusercontent.com/a-/AOh14Gj8sSoIN2sm7Rpm61y9tGp0PjokjnqAybPa9wCD=s64",
      "userId": "14337286313514897029"
     },
     "user_tz": -300
    },
    "id": "oa5XwGcUrCQN"
   },
   "outputs": [],
   "source": [
    "# input_texts"
   ]
  },
  {
   "cell_type": "markdown",
   "metadata": {
    "id": "AV1ahm510tpp"
   },
   "source": [
    "### Preprocess for Required Encoder Decoder Vairbales"
   ]
  },
  {
   "cell_type": "code",
   "execution_count": 12,
   "metadata": {
    "executionInfo": {
     "elapsed": 23,
     "status": "ok",
     "timestamp": 1631456652773,
     "user": {
      "displayName": "AHMAD HASSAN",
      "photoUrl": "https://lh3.googleusercontent.com/a-/AOh14Gj8sSoIN2sm7Rpm61y9tGp0PjokjnqAybPa9wCD=s64",
      "userId": "14337286313514897029"
     },
     "user_tz": -300
    },
    "id": "__GKgR9LutqN"
   },
   "outputs": [],
   "source": [
    "\n",
    "input_characters = sorted(list(input_characters))\n",
    "target_characters = sorted(list(target_characters))\n",
    "\n",
    "num_encoder_tokens = len(input_characters)    \n",
    "num_decoder_tokens =  len(target_characters)\n",
    "\n",
    "max_encoder_seq =  max([len(word) for  word in input_texts])\n",
    "max_decoder_seq = max([len(word) for  word in target_texts])\n",
    "\n",
    "no_encoder_sequences = len(input_texts)\n",
    "no_decoder_sequences = len(target_texts)"
   ]
  },
  {
   "cell_type": "code",
   "execution_count": 13,
   "metadata": {
    "colab": {
     "base_uri": "https://localhost:8080/"
    },
    "executionInfo": {
     "elapsed": 23,
     "status": "ok",
     "timestamp": 1631456652774,
     "user": {
      "displayName": "AHMAD HASSAN",
      "photoUrl": "https://lh3.googleusercontent.com/a-/AOh14Gj8sSoIN2sm7Rpm61y9tGp0PjokjnqAybPa9wCD=s64",
      "userId": "14337286313514897029"
     },
     "user_tz": -300
    },
    "id": "qkAZojyI2hdP",
    "outputId": "bdf0d337-89d5-4979-ae12-2b9456bf3d3e"
   },
   "outputs": [
    {
     "data": {
      "text/plain": [
       "10000"
      ]
     },
     "execution_count": 13,
     "metadata": {},
     "output_type": "execute_result"
    }
   ],
   "source": [
    "no_encoder_sequences"
   ]
  },
  {
   "cell_type": "code",
   "execution_count": 14,
   "metadata": {
    "colab": {
     "base_uri": "https://localhost:8080/"
    },
    "executionInfo": {
     "elapsed": 21,
     "status": "ok",
     "timestamp": 1631456652774,
     "user": {
      "displayName": "AHMAD HASSAN",
      "photoUrl": "https://lh3.googleusercontent.com/a-/AOh14Gj8sSoIN2sm7Rpm61y9tGp0PjokjnqAybPa9wCD=s64",
      "userId": "14337286313514897029"
     },
     "user_tz": -300
    },
    "id": "HKULEw1-2i7M",
    "outputId": "7341df72-341d-4306-eb7c-7e25d4b2741d"
   },
   "outputs": [
    {
     "name": "stdout",
     "output_type": "stream",
     "text": [
      "Number of samples: 10000\n",
      "Number of samples: 10000\n",
      "Number of unique input tokens: 71\n",
      "Number of unique output tokens: 92\n",
      "Max sequence length for inputs: 15\n",
      "Max sequence length for outputs: 59\n"
     ]
    }
   ],
   "source": [
    "print(\"Number of samples:\", no_encoder_sequences)\n",
    "print(\"Number of samples:\", no_decoder_sequences)\n",
    "\n",
    "print(\"Number of unique input tokens:\", num_encoder_tokens)\n",
    "print(\"Number of unique output tokens:\", num_decoder_tokens)\n",
    "print(\"Max sequence length for inputs:\", max_encoder_seq)\n",
    "print(\"Max sequence length for outputs:\", max_decoder_seq)"
   ]
  },
  {
   "cell_type": "markdown",
   "metadata": {
    "id": "w7RKFoy93boW"
   },
   "source": [
    "**Adding index to data**"
   ]
  },
  {
   "cell_type": "code",
   "execution_count": 15,
   "metadata": {
    "executionInfo": {
     "elapsed": 20,
     "status": "ok",
     "timestamp": 1631456652775,
     "user": {
      "displayName": "AHMAD HASSAN",
      "photoUrl": "https://lh3.googleusercontent.com/a-/AOh14Gj8sSoIN2sm7Rpm61y9tGp0PjokjnqAybPa9wCD=s64",
      "userId": "14337286313514897029"
     },
     "user_tz": -300
    },
    "id": "hq2hva1f3Wb7"
   },
   "outputs": [],
   "source": [
    "#Adding index to input data\n",
    "#will be used in one hot encoding of encoder decoder inputs as numpy arrays\n",
    "input_token_index = dict( [char,i]  for i,char in enumerate(input_characters)  )\n",
    "target_token_index = dict( [char,i]  for i,char in enumerate(target_characters)  )"
   ]
  },
  {
   "cell_type": "code",
   "execution_count": 16,
   "metadata": {
    "colab": {
     "base_uri": "https://localhost:8080/"
    },
    "executionInfo": {
     "elapsed": 19,
     "status": "ok",
     "timestamp": 1631456652775,
     "user": {
      "displayName": "AHMAD HASSAN",
      "photoUrl": "https://lh3.googleusercontent.com/a-/AOh14Gj8sSoIN2sm7Rpm61y9tGp0PjokjnqAybPa9wCD=s64",
      "userId": "14337286313514897029"
     },
     "user_tz": -300
    },
    "id": "4zRaVYYd361s",
    "outputId": "9caaa5a5-e756-435b-b8b4-3766bbc108f6"
   },
   "outputs": [
    {
     "data": {
      "text/plain": [
       "{'\\t': 0,\n",
       " '\\n': 1,\n",
       " ' ': 2,\n",
       " '!': 3,\n",
       " '%': 4,\n",
       " '&': 5,\n",
       " \"'\": 6,\n",
       " '(': 7,\n",
       " ')': 8,\n",
       " ',': 9,\n",
       " '-': 10,\n",
       " '.': 11,\n",
       " '0': 12,\n",
       " '1': 13,\n",
       " '2': 14,\n",
       " '3': 15,\n",
       " '5': 16,\n",
       " '8': 17,\n",
       " '9': 18,\n",
       " ':': 19,\n",
       " '?': 20,\n",
       " 'A': 21,\n",
       " 'B': 22,\n",
       " 'C': 23,\n",
       " 'D': 24,\n",
       " 'E': 25,\n",
       " 'F': 26,\n",
       " 'G': 27,\n",
       " 'H': 28,\n",
       " 'I': 29,\n",
       " 'J': 30,\n",
       " 'K': 31,\n",
       " 'L': 32,\n",
       " 'M': 33,\n",
       " 'N': 34,\n",
       " 'O': 35,\n",
       " 'P': 36,\n",
       " 'Q': 37,\n",
       " 'R': 38,\n",
       " 'S': 39,\n",
       " 'T': 40,\n",
       " 'U': 41,\n",
       " 'V': 42,\n",
       " 'Y': 43,\n",
       " 'a': 44,\n",
       " 'b': 45,\n",
       " 'c': 46,\n",
       " 'd': 47,\n",
       " 'e': 48,\n",
       " 'f': 49,\n",
       " 'g': 50,\n",
       " 'h': 51,\n",
       " 'i': 52,\n",
       " 'j': 53,\n",
       " 'k': 54,\n",
       " 'l': 55,\n",
       " 'm': 56,\n",
       " 'n': 57,\n",
       " 'o': 58,\n",
       " 'p': 59,\n",
       " 'q': 60,\n",
       " 'r': 61,\n",
       " 's': 62,\n",
       " 't': 63,\n",
       " 'u': 64,\n",
       " 'v': 65,\n",
       " 'w': 66,\n",
       " 'x': 67,\n",
       " 'y': 68,\n",
       " 'z': 69,\n",
       " '\\xa0': 70,\n",
       " '«': 71,\n",
       " '»': 72,\n",
       " 'À': 73,\n",
       " 'Ç': 74,\n",
       " 'É': 75,\n",
       " 'Ê': 76,\n",
       " 'à': 77,\n",
       " 'â': 78,\n",
       " 'ç': 79,\n",
       " 'è': 80,\n",
       " 'é': 81,\n",
       " 'ê': 82,\n",
       " 'î': 83,\n",
       " 'ï': 84,\n",
       " 'ô': 85,\n",
       " 'ù': 86,\n",
       " 'û': 87,\n",
       " 'œ': 88,\n",
       " '\\u2009': 89,\n",
       " '’': 90,\n",
       " '\\u202f': 91}"
      ]
     },
     "execution_count": 16,
     "metadata": {},
     "output_type": "execute_result"
    }
   ],
   "source": [
    "target_token_index"
   ]
  },
  {
   "cell_type": "markdown",
   "metadata": {
    "id": "cyfDCRv54Q8o"
   },
   "source": [
    "### 3D numpy shape for Encoder Decoder input data"
   ]
  },
  {
   "cell_type": "code",
   "execution_count": 17,
   "metadata": {
    "executionInfo": {
     "elapsed": 575,
     "status": "ok",
     "timestamp": 1631456653334,
     "user": {
      "displayName": "AHMAD HASSAN",
      "photoUrl": "https://lh3.googleusercontent.com/a-/AOh14Gj8sSoIN2sm7Rpm61y9tGp0PjokjnqAybPa9wCD=s64",
      "userId": "14337286313514897029"
     },
     "user_tz": -300
    },
    "id": "zMqPj0Mo376b"
   },
   "outputs": [],
   "source": [
    "#This data will be used in TRAINING(.fit()) stage  after onehot encoding\n",
    "encoder_input_data = np.zeros(  (no_encoder_sequences , max_encoder_seq , num_encoder_tokens),dtype = 'float32')\n",
    "\n",
    "decoder_input_data = np.zeros(  (no_decoder_sequences , max_decoder_seq , num_decoder_tokens),dtype = 'float32')\n",
    "\n",
    "decoder_target_data = np.zeros(  (no_decoder_sequences , max_decoder_seq , num_decoder_tokens),dtype = 'float32')"
   ]
  },
  {
   "cell_type": "code",
   "execution_count": 18,
   "metadata": {
    "colab": {
     "base_uri": "https://localhost:8080/"
    },
    "executionInfo": {
     "elapsed": 11,
     "status": "ok",
     "timestamp": 1631456653335,
     "user": {
      "displayName": "AHMAD HASSAN",
      "photoUrl": "https://lh3.googleusercontent.com/a-/AOh14Gj8sSoIN2sm7Rpm61y9tGp0PjokjnqAybPa9wCD=s64",
      "userId": "14337286313514897029"
     },
     "user_tz": -300
    },
    "id": "XNpNPnFr494c",
    "outputId": "75d38008-2ba1-447a-f6a1-31d09407f069"
   },
   "outputs": [
    {
     "data": {
      "text/plain": [
       "array([[[0., 0., 0., ..., 0., 0., 0.],\n",
       "        [0., 0., 0., ..., 0., 0., 0.],\n",
       "        [0., 0., 0., ..., 0., 0., 0.],\n",
       "        ...,\n",
       "        [0., 0., 0., ..., 0., 0., 0.],\n",
       "        [0., 0., 0., ..., 0., 0., 0.],\n",
       "        [0., 0., 0., ..., 0., 0., 0.]],\n",
       "\n",
       "       [[0., 0., 0., ..., 0., 0., 0.],\n",
       "        [0., 0., 0., ..., 0., 0., 0.],\n",
       "        [0., 0., 0., ..., 0., 0., 0.],\n",
       "        ...,\n",
       "        [0., 0., 0., ..., 0., 0., 0.],\n",
       "        [0., 0., 0., ..., 0., 0., 0.],\n",
       "        [0., 0., 0., ..., 0., 0., 0.]],\n",
       "\n",
       "       [[0., 0., 0., ..., 0., 0., 0.],\n",
       "        [0., 0., 0., ..., 0., 0., 0.],\n",
       "        [0., 0., 0., ..., 0., 0., 0.],\n",
       "        ...,\n",
       "        [0., 0., 0., ..., 0., 0., 0.],\n",
       "        [0., 0., 0., ..., 0., 0., 0.],\n",
       "        [0., 0., 0., ..., 0., 0., 0.]],\n",
       "\n",
       "       ...,\n",
       "\n",
       "       [[0., 0., 0., ..., 0., 0., 0.],\n",
       "        [0., 0., 0., ..., 0., 0., 0.],\n",
       "        [0., 0., 0., ..., 0., 0., 0.],\n",
       "        ...,\n",
       "        [0., 0., 0., ..., 0., 0., 0.],\n",
       "        [0., 0., 0., ..., 0., 0., 0.],\n",
       "        [0., 0., 0., ..., 0., 0., 0.]],\n",
       "\n",
       "       [[0., 0., 0., ..., 0., 0., 0.],\n",
       "        [0., 0., 0., ..., 0., 0., 0.],\n",
       "        [0., 0., 0., ..., 0., 0., 0.],\n",
       "        ...,\n",
       "        [0., 0., 0., ..., 0., 0., 0.],\n",
       "        [0., 0., 0., ..., 0., 0., 0.],\n",
       "        [0., 0., 0., ..., 0., 0., 0.]],\n",
       "\n",
       "       [[0., 0., 0., ..., 0., 0., 0.],\n",
       "        [0., 0., 0., ..., 0., 0., 0.],\n",
       "        [0., 0., 0., ..., 0., 0., 0.],\n",
       "        ...,\n",
       "        [0., 0., 0., ..., 0., 0., 0.],\n",
       "        [0., 0., 0., ..., 0., 0., 0.],\n",
       "        [0., 0., 0., ..., 0., 0., 0.]]], dtype=float32)"
      ]
     },
     "execution_count": 18,
     "metadata": {},
     "output_type": "execute_result"
    }
   ],
   "source": [
    "decoder_input_data"
   ]
  },
  {
   "cell_type": "markdown",
   "metadata": {
    "id": "LSR1idXg5YQN"
   },
   "source": [
    "### One HOT ENCODING"
   ]
  },
  {
   "cell_type": "code",
   "execution_count": 19,
   "metadata": {
    "executionInfo": {
     "elapsed": 9,
     "status": "ok",
     "timestamp": 1631456653336,
     "user": {
      "displayName": "AHMAD HASSAN",
      "photoUrl": "https://lh3.googleusercontent.com/a-/AOh14Gj8sSoIN2sm7Rpm61y9tGp0PjokjnqAybPa9wCD=s64",
      "userId": "14337286313514897029"
     },
     "user_tz": -300
    },
    "id": "M3nWLO7u5LK8"
   },
   "outputs": [],
   "source": [
    "#ONE \n",
    "\n",
    "for i, (input_text, target_text) in enumerate(zip(input_texts, target_texts)):\n",
    "    for t, char in enumerate(input_text):\n",
    "        encoder_input_data[i, t, input_token_index[char]] = 1.0\n",
    "    encoder_input_data[i, t + 1 :, input_token_index[\" \"]] = 1.0\n",
    "    for t, char in enumerate(target_text):\n",
    "        # decoder_target_data is ahead of decoder_input_data by one timestep\n",
    "        decoder_input_data[i, t, target_token_index[char]] = 1.0\n",
    "        if t > 0:\n",
    "            # decoder_target_data will be ahead by one timestep\n",
    "            # and will not include the start character.\n",
    "            decoder_target_data[i, t - 1, target_token_index[char]] = 1.0\n",
    "    decoder_input_data[i, t + 1 :, target_token_index[\" \"]] = 1.0\n",
    "    decoder_target_data[i, t:, target_token_index[\" \"]] = 1.0"
   ]
  },
  {
   "cell_type": "code",
   "execution_count": 20,
   "metadata": {
    "colab": {
     "base_uri": "https://localhost:8080/"
    },
    "executionInfo": {
     "elapsed": 10,
     "status": "ok",
     "timestamp": 1631456653337,
     "user": {
      "displayName": "AHMAD HASSAN",
      "photoUrl": "https://lh3.googleusercontent.com/a-/AOh14Gj8sSoIN2sm7Rpm61y9tGp0PjokjnqAybPa9wCD=s64",
      "userId": "14337286313514897029"
     },
     "user_tz": -300
    },
    "id": "NFhPhKVf53h9",
    "outputId": "c8619574-5e03-4dd3-ff62-b7dd90ea738c"
   },
   "outputs": [
    {
     "data": {
      "text/plain": [
       "array([[[0., 0., 0., ..., 0., 0., 0.],\n",
       "        [0., 0., 0., ..., 0., 0., 0.],\n",
       "        [0., 0., 1., ..., 0., 0., 0.],\n",
       "        ...,\n",
       "        [0., 0., 1., ..., 0., 0., 0.],\n",
       "        [0., 0., 1., ..., 0., 0., 0.],\n",
       "        [0., 0., 1., ..., 0., 0., 0.]],\n",
       "\n",
       "       [[0., 0., 0., ..., 0., 0., 0.],\n",
       "        [0., 0., 0., ..., 0., 0., 0.],\n",
       "        [0., 0., 0., ..., 0., 0., 0.],\n",
       "        ...,\n",
       "        [0., 0., 1., ..., 0., 0., 0.],\n",
       "        [0., 0., 1., ..., 0., 0., 0.],\n",
       "        [0., 0., 1., ..., 0., 0., 0.]],\n",
       "\n",
       "       [[0., 0., 0., ..., 0., 0., 0.],\n",
       "        [0., 0., 0., ..., 0., 0., 0.],\n",
       "        [0., 0., 0., ..., 0., 0., 0.],\n",
       "        ...,\n",
       "        [0., 0., 1., ..., 0., 0., 0.],\n",
       "        [0., 0., 1., ..., 0., 0., 0.],\n",
       "        [0., 0., 1., ..., 0., 0., 0.]],\n",
       "\n",
       "       ...,\n",
       "\n",
       "       [[0., 0., 0., ..., 0., 0., 0.],\n",
       "        [0., 0., 0., ..., 0., 0., 0.],\n",
       "        [0., 0., 1., ..., 0., 0., 0.],\n",
       "        ...,\n",
       "        [0., 0., 1., ..., 0., 0., 0.],\n",
       "        [0., 0., 1., ..., 0., 0., 0.],\n",
       "        [0., 0., 1., ..., 0., 0., 0.]],\n",
       "\n",
       "       [[0., 0., 0., ..., 0., 0., 0.],\n",
       "        [0., 0., 0., ..., 0., 0., 0.],\n",
       "        [0., 0., 0., ..., 0., 0., 0.],\n",
       "        ...,\n",
       "        [0., 0., 1., ..., 0., 0., 0.],\n",
       "        [0., 0., 1., ..., 0., 0., 0.],\n",
       "        [0., 0., 1., ..., 0., 0., 0.]],\n",
       "\n",
       "       [[0., 0., 0., ..., 0., 0., 0.],\n",
       "        [0., 0., 0., ..., 0., 0., 0.],\n",
       "        [0., 0., 0., ..., 0., 0., 0.],\n",
       "        ...,\n",
       "        [0., 0., 1., ..., 0., 0., 0.],\n",
       "        [0., 0., 1., ..., 0., 0., 0.],\n",
       "        [0., 0., 1., ..., 0., 0., 0.]]], dtype=float32)"
      ]
     },
     "execution_count": 20,
     "metadata": {},
     "output_type": "execute_result"
    }
   ],
   "source": [
    "#Obtained\n",
    "encoder_input_data\n",
    "decoder_input_data\n",
    "decoder_target_data"
   ]
  },
  {
   "cell_type": "markdown",
   "metadata": {
    "id": "RYPo_wVY61xf"
   },
   "source": [
    "# Creating Encoder Decoder Layers with LSTMs"
   ]
  },
  {
   "cell_type": "code",
   "execution_count": 21,
   "metadata": {
    "executionInfo": {
     "elapsed": 2778,
     "status": "ok",
     "timestamp": 1631456656108,
     "user": {
      "displayName": "AHMAD HASSAN",
      "photoUrl": "https://lh3.googleusercontent.com/a-/AOh14Gj8sSoIN2sm7Rpm61y9tGp0PjokjnqAybPa9wCD=s64",
      "userId": "14337286313514897029"
     },
     "user_tz": -300
    },
    "id": "3VMamu_x6fXM"
   },
   "outputs": [],
   "source": [
    "import tensorflow\n",
    "from  tensorflow.keras import Input \n",
    "from tensorflow.keras.layers import LSTM , Dense , Embedding"
   ]
  },
  {
   "cell_type": "code",
   "execution_count": 22,
   "metadata": {
    "executionInfo": {
     "elapsed": 1119,
     "status": "ok",
     "timestamp": 1631456657220,
     "user": {
      "displayName": "AHMAD HASSAN",
      "photoUrl": "https://lh3.googleusercontent.com/a-/AOh14Gj8sSoIN2sm7Rpm61y9tGp0PjokjnqAybPa9wCD=s64",
      "userId": "14337286313514897029"
     },
     "user_tz": -300
    },
    "id": "vTAYS9Vy7IdL"
   },
   "outputs": [],
   "source": [
    "# # FOR ENCODER\n",
    "\n",
    "# #Used for giving shapes to tensors\n",
    "# encoder_inputs = Input(shape=(None , num_encoder_tokens)) \n",
    "# #defined Layer of LSTM  \n",
    "\n",
    "# encoder = LSTM(latent_dim , return_state = True )\n",
    "\n",
    "# #Uses above inputs\n",
    "# encoder_ouputs , state_h , state_c = encoder(encoder_inputs)  \n",
    "# #discarding output and using states only to save state var\n",
    "# #for adding in decoder\n",
    "# encoder_states = [state_h,state_c]\n",
    "\n",
    "\n"
   ]
  },
  {
   "cell_type": "code",
   "execution_count": 23,
   "metadata": {
    "executionInfo": {
     "elapsed": 12,
     "status": "ok",
     "timestamp": 1631456657220,
     "user": {
      "displayName": "AHMAD HASSAN",
      "photoUrl": "https://lh3.googleusercontent.com/a-/AOh14Gj8sSoIN2sm7Rpm61y9tGp0PjokjnqAybPa9wCD=s64",
      "userId": "14337286313514897029"
     },
     "user_tz": -300
    },
    "id": "ju6vghp087L7"
   },
   "outputs": [],
   "source": [
    "# # FOR DECODER\n",
    "# decoder_inputs = Input(shape=(None,num_decoder_tokens))\n",
    "\n",
    "# decoder_LSTM = LSTM(latent_dim , return_sequences=True , return_state=True)\n",
    "# #Uses above inputs\n",
    "# decoder_outputs , _,_ = decoder_LSTM(decoder_inputs , initial_state =encoder_states )\n",
    "# #Dense layer for output  with units = no of decoder tokens\n",
    "# decoder_Dense = Dense(num_decoder_tokens , activation='softmax')\n",
    "# decoder_outputs = decoder_Dense(decoder_outputs)\n",
    "\n"
   ]
  },
  {
   "cell_type": "markdown",
   "metadata": {
    "id": "BE3JIihZ5Xg_"
   },
   "source": [
    "**OPT use Stacked LSTMS~**"
   ]
  },
  {
   "cell_type": "code",
   "execution_count": 52,
   "metadata": {
    "executionInfo": {
     "elapsed": 733,
     "status": "ok",
     "timestamp": 1631458908791,
     "user": {
      "displayName": "AHMAD HASSAN",
      "photoUrl": "https://lh3.googleusercontent.com/a-/AOh14Gj8sSoIN2sm7Rpm61y9tGp0PjokjnqAybPa9wCD=s64",
      "userId": "14337286313514897029"
     },
     "user_tz": -300
    },
    "id": "nKuh-qIZoTyn"
   },
   "outputs": [],
   "source": [
    "# FOR ENCODER\n",
    "encoder_inputs = Input(shape=(None , num_encoder_tokens)) \n",
    "\n",
    "# Stacked LSTM 2 layer\n",
    "# Using above inputs and producing states and output (from layer1)\n",
    "e_outputs, h1, c1 = LSTM(latent_dim, return_state=True, return_sequences=True)(encoder_inputs) \n",
    "_, h2, c2 = LSTM(latent_dim, return_state=True)(e_outputs) \n",
    "\n",
    "encoder_states = [h1, c1, h2, c2]"
   ]
  },
  {
   "cell_type": "code",
   "execution_count": 53,
   "metadata": {
    "executionInfo": {
     "elapsed": 686,
     "status": "ok",
     "timestamp": 1631458909473,
     "user": {
      "displayName": "AHMAD HASSAN",
      "photoUrl": "https://lh3.googleusercontent.com/a-/AOh14Gj8sSoIN2sm7Rpm61y9tGp0PjokjnqAybPa9wCD=s64",
      "userId": "14337286313514897029"
     },
     "user_tz": -300
    },
    "id": "IH4hdHMXoT8s"
   },
   "outputs": [],
   "source": [
    "# FOR DECODER\n",
    "decoder_inputs = Input(shape=(None,num_decoder_tokens))\n",
    "\n",
    "#Staked LSTM 2 output layers\n",
    "# 1layer with initail state of first layer state h1,c1 of encoder\n",
    "out_layer1 = LSTM(latent_dim, return_sequences=True, return_state=True)\n",
    "d_outputs, dh1, dc1 = out_layer1(decoder_inputs,initial_state= [h1, c1])\n",
    "\n",
    "#2 layer with initail state of second layer state h2,c2 of encoder\n",
    "out_layer2 = LSTM(latent_dim, return_sequences=True, return_state=True)\n",
    "final, dh2, dc2 = out_layer2(d_outputs, initial_state= [h2, c2])\n",
    "\n",
    "\n",
    "#Dense Layer\n",
    "decoder_dense = Dense(num_decoder_tokens, activation='softmax')\n",
    "decoder_outputs = decoder_dense(final)\n"
   ]
  },
  {
   "cell_type": "code",
   "execution_count": 53,
   "metadata": {
    "executionInfo": {
     "elapsed": 6,
     "status": "ok",
     "timestamp": 1631458909474,
     "user": {
      "displayName": "AHMAD HASSAN",
      "photoUrl": "https://lh3.googleusercontent.com/a-/AOh14Gj8sSoIN2sm7Rpm61y9tGp0PjokjnqAybPa9wCD=s64",
      "userId": "14337286313514897029"
     },
     "user_tz": -300
    },
    "id": "qfYvTk0yoUAZ"
   },
   "outputs": [],
   "source": []
  },
  {
   "cell_type": "markdown",
   "metadata": {
    "id": "7Q5B0QljCmCI"
   },
   "source": [
    "# Train"
   ]
  },
  {
   "cell_type": "code",
   "execution_count": 54,
   "metadata": {
    "executionInfo": {
     "elapsed": 6,
     "status": "ok",
     "timestamp": 1631458909475,
     "user": {
      "displayName": "AHMAD HASSAN",
      "photoUrl": "https://lh3.googleusercontent.com/a-/AOh14Gj8sSoIN2sm7Rpm61y9tGp0PjokjnqAybPa9wCD=s64",
      "userId": "14337286313514897029"
     },
     "user_tz": -300
    },
    "id": "4cM1bulvCu4z"
   },
   "outputs": [],
   "source": [
    "from tensorflow.keras import Model\n",
    "from tensorflow.keras.callbacks import EarlyStopping"
   ]
  },
  {
   "cell_type": "code",
   "execution_count": 55,
   "metadata": {
    "executionInfo": {
     "elapsed": 3,
     "status": "ok",
     "timestamp": 1631458910052,
     "user": {
      "displayName": "AHMAD HASSAN",
      "photoUrl": "https://lh3.googleusercontent.com/a-/AOh14Gj8sSoIN2sm7Rpm61y9tGp0PjokjnqAybPa9wCD=s64",
      "userId": "14337286313514897029"
     },
     "user_tz": -300
    },
    "id": "Dli76gZ7hHPg"
   },
   "outputs": [],
   "source": [
    "early = EarlyStopping( monitor='val_loss', patience=6, verbose=1, mode='auto' )"
   ]
  },
  {
   "cell_type": "code",
   "execution_count": 56,
   "metadata": {
    "executionInfo": {
     "elapsed": 4,
     "status": "ok",
     "timestamp": 1631458910636,
     "user": {
      "displayName": "AHMAD HASSAN",
      "photoUrl": "https://lh3.googleusercontent.com/a-/AOh14Gj8sSoIN2sm7Rpm61y9tGp0PjokjnqAybPa9wCD=s64",
      "userId": "14337286313514897029"
     },
     "user_tz": -300
    },
    "id": "pkDvBt8Y_Xuc"
   },
   "outputs": [],
   "source": [
    "# CONSTRUCT MODEL\n",
    "\n",
    "# Construncing the model using the enocder,decoder input and target outputs\n",
    "model = Model([encoder_inputs, decoder_inputs], decoder_outputs)\n",
    "\n",
    "\n",
    "#compile\n",
    "model.compile(\n",
    "    optimizer=\"rmsprop\", loss=\"categorical_crossentropy\", metrics=[\"accuracy\"]\n",
    ")"
   ]
  },
  {
   "cell_type": "code",
   "execution_count": 57,
   "metadata": {
    "colab": {
     "base_uri": "https://localhost:8080/"
    },
    "executionInfo": {
     "elapsed": 449706,
     "status": "ok",
     "timestamp": 1631459361561,
     "user": {
      "displayName": "AHMAD HASSAN",
      "photoUrl": "https://lh3.googleusercontent.com/a-/AOh14Gj8sSoIN2sm7Rpm61y9tGp0PjokjnqAybPa9wCD=s64",
      "userId": "14337286313514897029"
     },
     "user_tz": -300
    },
    "id": "EAgjXQUgCo1u",
    "outputId": "3216d6ed-5433-48bd-cc8e-78a51eeca949"
   },
   "outputs": [
    {
     "name": "stdout",
     "output_type": "stream",
     "text": [
      "Epoch 1/50\n",
      "125/125 [==============================] - 16s 81ms/step - loss: 1.0586 - accuracy: 0.7336 - val_loss: 0.9980 - val_accuracy: 0.7075\n",
      "Epoch 2/50\n",
      "125/125 [==============================] - 8s 67ms/step - loss: 0.8102 - accuracy: 0.7716 - val_loss: 0.8591 - val_accuracy: 0.7596\n",
      "Epoch 3/50\n",
      "125/125 [==============================] - 8s 67ms/step - loss: 0.6652 - accuracy: 0.8106 - val_loss: 0.6947 - val_accuracy: 0.7990\n",
      "Epoch 4/50\n",
      "125/125 [==============================] - 8s 67ms/step - loss: 0.5527 - accuracy: 0.8395 - val_loss: 0.6021 - val_accuracy: 0.8252\n",
      "Epoch 5/50\n",
      "125/125 [==============================] - 8s 67ms/step - loss: 0.4922 - accuracy: 0.8555 - val_loss: 0.5661 - val_accuracy: 0.8342\n",
      "Epoch 6/50\n",
      "125/125 [==============================] - 8s 67ms/step - loss: 0.4516 - accuracy: 0.8664 - val_loss: 0.5270 - val_accuracy: 0.8460\n",
      "Epoch 7/50\n",
      "125/125 [==============================] - 8s 67ms/step - loss: 0.4168 - accuracy: 0.8760 - val_loss: 0.5063 - val_accuracy: 0.8529\n",
      "Epoch 8/50\n",
      "125/125 [==============================] - 8s 67ms/step - loss: 0.3877 - accuracy: 0.8839 - val_loss: 0.4850 - val_accuracy: 0.8569\n",
      "Epoch 9/50\n",
      "125/125 [==============================] - 8s 67ms/step - loss: 0.3614 - accuracy: 0.8916 - val_loss: 0.4684 - val_accuracy: 0.8624\n",
      "Epoch 10/50\n",
      "125/125 [==============================] - 8s 67ms/step - loss: 0.3380 - accuracy: 0.8986 - val_loss: 0.4521 - val_accuracy: 0.8682\n",
      "Epoch 11/50\n",
      "125/125 [==============================] - 8s 67ms/step - loss: 0.3156 - accuracy: 0.9053 - val_loss: 0.4515 - val_accuracy: 0.8685\n",
      "Epoch 12/50\n",
      "125/125 [==============================] - 8s 66ms/step - loss: 0.2949 - accuracy: 0.9119 - val_loss: 0.4351 - val_accuracy: 0.8734\n",
      "Epoch 13/50\n",
      "125/125 [==============================] - 8s 67ms/step - loss: 0.2757 - accuracy: 0.9173 - val_loss: 0.4384 - val_accuracy: 0.8747\n",
      "Epoch 14/50\n",
      "125/125 [==============================] - 8s 67ms/step - loss: 0.2577 - accuracy: 0.9225 - val_loss: 0.4329 - val_accuracy: 0.8758\n",
      "Epoch 15/50\n",
      "125/125 [==============================] - 8s 67ms/step - loss: 0.2407 - accuracy: 0.9277 - val_loss: 0.4313 - val_accuracy: 0.8773\n",
      "Epoch 16/50\n",
      "125/125 [==============================] - 8s 67ms/step - loss: 0.2249 - accuracy: 0.9324 - val_loss: 0.4370 - val_accuracy: 0.8768\n",
      "Epoch 17/50\n",
      "125/125 [==============================] - 8s 67ms/step - loss: 0.2098 - accuracy: 0.9366 - val_loss: 0.4365 - val_accuracy: 0.8775\n",
      "Epoch 18/50\n",
      "125/125 [==============================] - 8s 68ms/step - loss: 0.1953 - accuracy: 0.9409 - val_loss: 0.4397 - val_accuracy: 0.8781\n",
      "Epoch 19/50\n",
      "125/125 [==============================] - 8s 68ms/step - loss: 0.1824 - accuracy: 0.9447 - val_loss: 0.4416 - val_accuracy: 0.8790\n",
      "Epoch 20/50\n",
      "125/125 [==============================] - 8s 68ms/step - loss: 0.1699 - accuracy: 0.9483 - val_loss: 0.4483 - val_accuracy: 0.8801\n",
      "Epoch 21/50\n",
      "125/125 [==============================] - 8s 68ms/step - loss: 0.1580 - accuracy: 0.9520 - val_loss: 0.4510 - val_accuracy: 0.8800\n",
      "Epoch 22/50\n",
      "125/125 [==============================] - 8s 68ms/step - loss: 0.1473 - accuracy: 0.9549 - val_loss: 0.4588 - val_accuracy: 0.8795\n",
      "Epoch 23/50\n",
      "125/125 [==============================] - 8s 68ms/step - loss: 0.1369 - accuracy: 0.9583 - val_loss: 0.4671 - val_accuracy: 0.8794\n",
      "Epoch 24/50\n",
      "125/125 [==============================] - 8s 68ms/step - loss: 0.1276 - accuracy: 0.9605 - val_loss: 0.4715 - val_accuracy: 0.8810\n",
      "Epoch 25/50\n",
      "125/125 [==============================] - 8s 67ms/step - loss: 0.1188 - accuracy: 0.9637 - val_loss: 0.4805 - val_accuracy: 0.8803\n",
      "Epoch 26/50\n",
      "125/125 [==============================] - 8s 67ms/step - loss: 0.1111 - accuracy: 0.9659 - val_loss: 0.4892 - val_accuracy: 0.8803\n",
      "Epoch 27/50\n",
      "125/125 [==============================] - 8s 67ms/step - loss: 0.1034 - accuracy: 0.9680 - val_loss: 0.4962 - val_accuracy: 0.8802\n",
      "Epoch 28/50\n",
      "125/125 [==============================] - 8s 67ms/step - loss: 0.0969 - accuracy: 0.9699 - val_loss: 0.5055 - val_accuracy: 0.8787\n",
      "Epoch 29/50\n",
      "125/125 [==============================] - 8s 67ms/step - loss: 0.0903 - accuracy: 0.9720 - val_loss: 0.5147 - val_accuracy: 0.8796\n",
      "Epoch 30/50\n",
      "125/125 [==============================] - 8s 67ms/step - loss: 0.0848 - accuracy: 0.9736 - val_loss: 0.5243 - val_accuracy: 0.8790\n",
      "Epoch 31/50\n",
      "125/125 [==============================] - 8s 68ms/step - loss: 0.0800 - accuracy: 0.9750 - val_loss: 0.5341 - val_accuracy: 0.8780\n",
      "Epoch 32/50\n",
      "125/125 [==============================] - 8s 67ms/step - loss: 0.0753 - accuracy: 0.9762 - val_loss: 0.5365 - val_accuracy: 0.8792\n",
      "Epoch 33/50\n",
      "125/125 [==============================] - 8s 67ms/step - loss: 0.0712 - accuracy: 0.9774 - val_loss: 0.5488 - val_accuracy: 0.8786\n",
      "Epoch 34/50\n",
      "125/125 [==============================] - 8s 68ms/step - loss: 0.0676 - accuracy: 0.9786 - val_loss: 0.5552 - val_accuracy: 0.8796\n",
      "Epoch 35/50\n",
      "125/125 [==============================] - 8s 68ms/step - loss: 0.0640 - accuracy: 0.9796 - val_loss: 0.5653 - val_accuracy: 0.8789\n",
      "Epoch 36/50\n",
      "125/125 [==============================] - 8s 68ms/step - loss: 0.0611 - accuracy: 0.9803 - val_loss: 0.5708 - val_accuracy: 0.8785\n",
      "Epoch 37/50\n",
      "125/125 [==============================] - 8s 68ms/step - loss: 0.0587 - accuracy: 0.9811 - val_loss: 0.5763 - val_accuracy: 0.8786\n",
      "Epoch 38/50\n",
      "125/125 [==============================] - 8s 68ms/step - loss: 0.0560 - accuracy: 0.9820 - val_loss: 0.5824 - val_accuracy: 0.8788\n",
      "Epoch 39/50\n",
      "125/125 [==============================] - 8s 68ms/step - loss: 0.0541 - accuracy: 0.9822 - val_loss: 0.5909 - val_accuracy: 0.8789\n",
      "Epoch 40/50\n",
      "125/125 [==============================] - 8s 68ms/step - loss: 0.0521 - accuracy: 0.9829 - val_loss: 0.5910 - val_accuracy: 0.8795\n",
      "Epoch 41/50\n",
      "125/125 [==============================] - 8s 68ms/step - loss: 0.0503 - accuracy: 0.9833 - val_loss: 0.6033 - val_accuracy: 0.8784\n",
      "Epoch 42/50\n",
      "125/125 [==============================] - 8s 67ms/step - loss: 0.0487 - accuracy: 0.9837 - val_loss: 0.6073 - val_accuracy: 0.8791\n",
      "Epoch 43/50\n",
      "125/125 [==============================] - 8s 68ms/step - loss: 0.0469 - accuracy: 0.9842 - val_loss: 0.6132 - val_accuracy: 0.8785\n",
      "Epoch 44/50\n",
      "125/125 [==============================] - 8s 68ms/step - loss: 0.0461 - accuracy: 0.9843 - val_loss: 0.6117 - val_accuracy: 0.8795\n",
      "Epoch 45/50\n",
      "125/125 [==============================] - 8s 68ms/step - loss: 0.0447 - accuracy: 0.9848 - val_loss: 0.6214 - val_accuracy: 0.8785\n",
      "Epoch 46/50\n",
      "125/125 [==============================] - 8s 67ms/step - loss: 0.0437 - accuracy: 0.9849 - val_loss: 0.6239 - val_accuracy: 0.8783\n",
      "Epoch 47/50\n",
      "125/125 [==============================] - 8s 66ms/step - loss: 0.0425 - accuracy: 0.9852 - val_loss: 0.6306 - val_accuracy: 0.8779\n",
      "Epoch 48/50\n",
      "125/125 [==============================] - 8s 67ms/step - loss: 0.0415 - accuracy: 0.9857 - val_loss: 0.6332 - val_accuracy: 0.8789\n",
      "Epoch 49/50\n",
      "125/125 [==============================] - 8s 67ms/step - loss: 0.0408 - accuracy: 0.9856 - val_loss: 0.6410 - val_accuracy: 0.8783\n",
      "Epoch 50/50\n",
      "125/125 [==============================] - 8s 67ms/step - loss: 0.0400 - accuracy: 0.9857 - val_loss: 0.6440 - val_accuracy: 0.8784\n"
     ]
    },
    {
     "data": {
      "text/plain": [
       "<keras.callbacks.History at 0x7f1ddba6cd10>"
      ]
     },
     "execution_count": 57,
     "metadata": {},
     "output_type": "execute_result"
    }
   ],
   "source": [
    "#TRAIN\n",
    "\n",
    "#Data is our ONEHOT Encoded Data\n",
    "model.fit([encoder_input_data , decoder_input_data] , decoder_target_data ,  batch_size=batch_size,\n",
    "    epochs=50,\n",
    "    validation_split=0.2,)"
   ]
  },
  {
   "cell_type": "code",
   "execution_count": 58,
   "metadata": {
    "colab": {
     "base_uri": "https://localhost:8080/",
     "height": 295
    },
    "executionInfo": {
     "elapsed": 16,
     "status": "ok",
     "timestamp": 1631459444133,
     "user": {
      "displayName": "AHMAD HASSAN",
      "photoUrl": "https://lh3.googleusercontent.com/a-/AOh14Gj8sSoIN2sm7Rpm61y9tGp0PjokjnqAybPa9wCD=s64",
      "userId": "14337286313514897029"
     },
     "user_tz": -300
    },
    "id": "_qRAmupuE5Yb",
    "outputId": "7f4e65d6-fcae-4783-fab8-f2847d1ef974"
   },
   "outputs": [
    {
     "data": {
      "image/png": "[encoded data removed]",
      "text/plain": [
       "<Figure size 432x288 with 1 Axes>"
      ]
     },
     "metadata": {
      "needs_background": "light"
     },
     "output_type": "display_data"
    }
   ],
   "source": [
    "plt.plot(model.history.history['loss'])\n",
    "plt.plot(model.history.history['val_loss'])\n",
    "plt.title('model loss')\n",
    "plt.ylabel('loss')\n",
    "plt.xlabel('epoch')\n",
    "plt.legend(['train', 'val'], loc='upper left')\n",
    "plt.show()"
   ]
  },
  {
   "cell_type": "code",
   "execution_count": 59,
   "metadata": {
    "colab": {
     "base_uri": "https://localhost:8080/",
     "height": 295
    },
    "executionInfo": {
     "elapsed": 799,
     "status": "ok",
     "timestamp": 1631459448923,
     "user": {
      "displayName": "AHMAD HASSAN",
      "photoUrl": "https://lh3.googleusercontent.com/a-/AOh14Gj8sSoIN2sm7Rpm61y9tGp0PjokjnqAybPa9wCD=s64",
      "userId": "14337286313514897029"
     },
     "user_tz": -300
    },
    "id": "mqNRexQoKW-M",
    "outputId": "7bc8e2cf-b4bc-46ac-ac6b-7b0767d1e3b3"
   },
   "outputs": [
    {
     "data": {
      "image/png": "[encoded data removed]",
      "text/plain": [
       "<Figure size 432x288 with 1 Axes>"
      ]
     },
     "metadata": {
      "needs_background": "light"
     },
     "output_type": "display_data"
    }
   ],
   "source": [
    "plt.plot(model.history.history['accuracy'])\n",
    "plt.plot(model.history.history['val_accuracy'])\n",
    "plt.title('model accuracy')\n",
    "plt.ylabel('accuracy')\n",
    "plt.xlabel('epoch')\n",
    "plt.legend(['train', 'val'], loc='upper left')\n",
    "plt.show()"
   ]
  },
  {
   "cell_type": "markdown",
   "metadata": {
    "id": "QWD1f2YICt76"
   },
   "source": [
    "# Save"
   ]
  },
  {
   "cell_type": "code",
   "execution_count": 60,
   "metadata": {
    "executionInfo": {
     "elapsed": 1257,
     "status": "ok",
     "timestamp": 1631459467125,
     "user": {
      "displayName": "AHMAD HASSAN",
      "photoUrl": "https://lh3.googleusercontent.com/a-/AOh14Gj8sSoIN2sm7Rpm61y9tGp0PjokjnqAybPa9wCD=s64",
      "userId": "14337286313514897029"
     },
     "user_tz": -300
    },
    "id": "KDfZVHC6Kfwq"
   },
   "outputs": [],
   "source": [
    "model.save(\"EnglishtoFrenchTranslate.h5\")"
   ]
  },
  {
   "cell_type": "markdown",
   "metadata": {
    "id": "uppYwmcKEB8c"
   },
   "source": [
    "# Inference"
   ]
  },
  {
   "cell_type": "code",
   "execution_count": 61,
   "metadata": {
    "executionInfo": {
     "elapsed": 584,
     "status": "ok",
     "timestamp": 1631459493527,
     "user": {
      "displayName": "AHMAD HASSAN",
      "photoUrl": "https://lh3.googleusercontent.com/a-/AOh14Gj8sSoIN2sm7Rpm61y9tGp0PjokjnqAybPa9wCD=s64",
      "userId": "14337286313514897029"
     },
     "user_tz": -300
    },
    "id": "gNjdt0NGEfyI"
   },
   "outputs": [],
   "source": [
    "import keras"
   ]
  },
  {
   "cell_type": "code",
   "execution_count": 62,
   "metadata": {
    "executionInfo": {
     "elapsed": 4565,
     "status": "ok",
     "timestamp": 1631459498665,
     "user": {
      "displayName": "AHMAD HASSAN",
      "photoUrl": "https://lh3.googleusercontent.com/a-/AOh14Gj8sSoIN2sm7Rpm61y9tGp0PjokjnqAybPa9wCD=s64",
      "userId": "14337286313514897029"
     },
     "user_tz": -300
    },
    "id": "VDgEgsHFEAz5"
   },
   "outputs": [],
   "source": [
    "## Run inference (sampling)\n",
    "# 1. encode input and retrieve initial decoder state\n",
    "# 2. run one step of decoder with this initial state\n",
    "# and a \"start of sequence\" token as target.\n",
    "# Output will be the next target token.\n",
    "# 3. Repeat with the current target token and current states\n",
    "\n",
    "\n",
    "# Define sampling models\n",
    "# Restore the model and construct the encoder and decoder.\n",
    "model = keras.models.load_model(\"EnglishtoUrduTranslate.h5\")\n",
    "\n",
    "encoder_inputs = model.input[0]  # input_1\n",
    "encoder_outputs, state_h_enc, state_c_enc = model.layers[2].output  # lstm_1\n",
    "encoder_states = [state_h_enc, state_c_enc]\n",
    "encoder_model = keras.Model(encoder_inputs, encoder_states)\n",
    "\n",
    "decoder_inputs = model.input[1]  # input_2\n",
    "decoder_state_input_h = keras.Input(shape=(latent_dim,), name=\"input_3\")\n",
    "decoder_state_input_c = keras.Input(shape=(latent_dim,), name=\"input_4\")\n",
    "decoder_states_inputs = [decoder_state_input_h, decoder_state_input_c]\n",
    "decoder_lstm = model.layers[3]\n",
    "decoder_outputs, state_h_dec, state_c_dec = decoder_lstm(\n",
    "    decoder_inputs, initial_state=decoder_states_inputs\n",
    ")\n",
    "decoder_states = [state_h_dec, state_c_dec]\n",
    "decoder_dense = model.layers[4]\n",
    "decoder_outputs = decoder_dense(decoder_outputs)\n",
    "decoder_model = keras.Model(\n",
    "    [decoder_inputs] + decoder_states_inputs, [decoder_outputs] + decoder_states\n",
    ")\n",
    "\n",
    "# Reverse-lookup token index to decode sequences back to\n",
    "# something readable.\n",
    "reverse_input_char_index = dict((i, char) for char, i in input_token_index.items())\n",
    "reverse_target_char_index = dict((i, char) for char, i in target_token_index.items())\n",
    "\n",
    "\n",
    "def decode_sequence(input_seq):\n",
    "    # Encode the input as state vectors.\n",
    "    states_value = encoder_model.predict(input_seq)\n",
    "\n",
    "    # Generate empty target sequence of length 1.\n",
    "    target_seq = np.zeros((1, 1, num_decoder_tokens))\n",
    "    # Populate the first character of target sequence with the start character.\n",
    "    target_seq[0, 0, target_token_index[\"\\t\"]] = 1.0\n",
    "\n",
    "    # Sampling loop for a batch of sequences\n",
    "    # (to simplify, here we assume a batch of size 1).\n",
    "    stop_condition = False\n",
    "    decoded_sentence = \"\"\n",
    "    while not stop_condition:\n",
    "        output_tokens, h, c = decoder_model.predict([target_seq] + states_value)\n",
    "\n",
    "        # Sample a token\n",
    "        sampled_token_index = np.argmax(output_tokens[0, -1, :])\n",
    "        sampled_char = reverse_target_char_index[sampled_token_index]\n",
    "        decoded_sentence += sampled_char\n",
    "\n",
    "        # Exit condition: either hit max length\n",
    "        # or find stop character.\n",
    "        if sampled_char == \"\\n\" or len(decoded_sentence) > max_decoder_seq:\n",
    "            stop_condition = True\n",
    "\n",
    "        # Update the target sequence (of length 1).\n",
    "        target_seq = np.zeros((1, 1, num_decoder_tokens))\n",
    "        target_seq[0, 0, sampled_token_index] = 1.0\n",
    "\n",
    "        # Update states\n",
    "        states_value = [h, c]\n",
    "    return decoded_sentence"
   ]
  },
  {
   "cell_type": "markdown",
   "metadata": {
    "id": "d4P--FO1Eprb"
   },
   "source": [
    "**Generate **"
   ]
  },
  {
   "cell_type": "code",
   "execution_count": 63,
   "metadata": {
    "colab": {
     "base_uri": "https://localhost:8080/"
    },
    "executionInfo": {
     "elapsed": 12634,
     "status": "ok",
     "timestamp": 1631459516784,
     "user": {
      "displayName": "AHMAD HASSAN",
      "photoUrl": "https://lh3.googleusercontent.com/a-/AOh14Gj8sSoIN2sm7Rpm61y9tGp0PjokjnqAybPa9wCD=s64",
      "userId": "14337286313514897029"
     },
     "user_tz": -300
    },
    "id": "8xcgKUgbEcEG",
    "outputId": "9f96077b-8959-4a75-9172-9d6f08fed9ab"
   },
   "outputs": [
    {
     "name": "stdout",
     "output_type": "stream",
     "text": [
      "-\n",
      "Input sentence: Go.\n",
      "Decoded sentence: Bouge !\n",
      "\n",
      "-\n",
      "Input sentence: Go.\n",
      "Decoded sentence: Bouge !\n",
      "\n",
      "-\n",
      "Input sentence: Go.\n",
      "Decoded sentence: Bouge !\n",
      "\n",
      "-\n",
      "Input sentence: Hi.\n",
      "Decoded sentence: Salut.\n",
      "\n",
      "-\n",
      "Input sentence: Hi.\n",
      "Decoded sentence: Salut.\n",
      "\n",
      "-\n",
      "Input sentence: Run!\n",
      "Decoded sentence: Filez !\n",
      "\n",
      "-\n",
      "Input sentence: Run!\n",
      "Decoded sentence: Filez !\n",
      "\n",
      "-\n",
      "Input sentence: Run!\n",
      "Decoded sentence: Filez !\n",
      "\n",
      "-\n",
      "Input sentence: Run!\n",
      "Decoded sentence: Filez !\n",
      "\n",
      "-\n",
      "Input sentence: Run!\n",
      "Decoded sentence: Filez !\n",
      "\n",
      "-\n",
      "Input sentence: Run!\n",
      "Decoded sentence: Filez !\n",
      "\n",
      "-\n",
      "Input sentence: Run!\n",
      "Decoded sentence: Filez !\n",
      "\n",
      "-\n",
      "Input sentence: Run!\n",
      "Decoded sentence: Filez !\n",
      "\n",
      "-\n",
      "Input sentence: Run.\n",
      "Decoded sentence: Filez !\n",
      "\n",
      "-\n",
      "Input sentence: Run.\n",
      "Decoded sentence: Filez !\n",
      "\n",
      "-\n",
      "Input sentence: Run.\n",
      "Decoded sentence: Filez !\n",
      "\n",
      "-\n",
      "Input sentence: Run.\n",
      "Decoded sentence: Filez !\n",
      "\n",
      "-\n",
      "Input sentence: Run.\n",
      "Decoded sentence: Filez !\n",
      "\n",
      "-\n",
      "Input sentence: Run.\n",
      "Decoded sentence: Filez !\n",
      "\n",
      "-\n",
      "Input sentence: Run.\n",
      "Decoded sentence: Filez !\n",
      "\n"
     ]
    }
   ],
   "source": [
    "\"\"\"\n",
    "You can now generate decoded sentences as such:\n",
    "\"\"\"\n",
    "\n",
    "for seq_index in range(20):\n",
    "    # Take one sequence (part of the training set)\n",
    "    # for trying out decoding.\n",
    "    input_seq = encoder_input_data[seq_index : seq_index + 1]\n",
    "    decoded_sentence = decode_sequence(input_seq)\n",
    "    print(\"-\")\n",
    "    print(\"Input sentence:\", input_texts[seq_index])\n",
    "    print(\"Decoded sentence:\", decoded_sentence)"
   ]
  },
  {
   "cell_type": "code",
   "execution_count": null,
   "metadata": {
    "executionInfo": {
     "elapsed": 30,
     "status": "aborted",
     "timestamp": 1631456696057,
     "user": {
      "displayName": "AHMAD HASSAN",
      "photoUrl": "https://lh3.googleusercontent.com/a-/AOh14Gj8sSoIN2sm7Rpm61y9tGp0PjokjnqAybPa9wCD=s64",
      "userId": "14337286313514897029"
     },
     "user_tz": -300
    },
    "id": "O5-dbaynEtu1"
   },
   "outputs": [],
   "source": []
  }
 ],
 "metadata": {
  "accelerator": "GPU",
  "colab": {
   "authorship_tag": "ABX9TyOPwM1FSD6z0k9PFCPEwtoX",
   "collapsed_sections": [],
   "name": "LanguageTranslation.ipynb",
   "provenance": []
  },
  "kernelspec": {
   "display_name": "Python 3",
   "language": "python",
   "name": "python3"
  },
  "language_info": {
   "codemirror_mode": {
    "name": "ipython",
    "version": 3
   },
   "file_extension": ".py",
   "mimetype": "text/x-python",
   "name": "python",
   "nbconvert_exporter": "python",
   "pygments_lexer": "ipython3",
   "version": "3.8.5"
  }
 },
 "nbformat": 4,
 "nbformat_minor": 1
}
